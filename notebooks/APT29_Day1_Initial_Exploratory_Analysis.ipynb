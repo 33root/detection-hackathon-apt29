{
 "cells": [
  {
   "cell_type": "markdown",
   "metadata": {},
   "source": [
    "# A Basic Exploratory Analysis - APT 29 Detection Hackathon!!"
   ]
  },
  {
   "cell_type": "markdown",
   "metadata": {},
   "source": [
    "### 1. Importing Python Libraries"
   ]
  },
  {
   "cell_type": "code",
   "execution_count": 1,
   "metadata": {},
   "outputs": [],
   "source": [
    "from pyspark.sql import SparkSession"
   ]
  },
  {
   "cell_type": "markdown",
   "metadata": {},
   "source": [
    "### 2. Initializing SparkSession"
   ]
  },
  {
   "cell_type": "code",
   "execution_count": 2,
   "metadata": {},
   "outputs": [],
   "source": [
    "spark = SparkSession.builder.getOrCreate()\n",
    "spark.conf.set(\"spark.sql.caseSensitive\", \"true\")"
   ]
  },
  {
   "cell_type": "markdown",
   "metadata": {},
   "source": [
    "### 3. Importing Dataset"
   ]
  },
  {
   "cell_type": "code",
   "execution_count": 3,
   "metadata": {},
   "outputs": [
    {
     "name": "stdout",
     "output_type": "stream",
     "text": [
      "Archive:  apt29_evals_day1_manual.zip\n",
      "  inflating: apt29_evals_day1_manual_2020-05-01225525.json  \n"
     ]
    }
   ],
   "source": [
    "!unzip datasets/day1/apt29_evals_day1_manual.zip"
   ]
  },
  {
   "cell_type": "code",
   "execution_count": 4,
   "metadata": {},
   "outputs": [],
   "source": [
    "df = spark.read.json('apt29_evals_day1_manual_2020-05-01225525.json')"
   ]
  },
  {
   "cell_type": "markdown",
   "metadata": {},
   "source": [
    "### 4. Creating a Temporary SQL View"
   ]
  },
  {
   "cell_type": "code",
   "execution_count": 5,
   "metadata": {},
   "outputs": [],
   "source": [
    "df.createTempView(\"apt29Table\")"
   ]
  },
  {
   "cell_type": "markdown",
   "metadata": {},
   "source": [
    "### 5) What processes have been created based on **Sysmon 1: Process Creation**?"
   ]
  },
  {
   "cell_type": "code",
   "execution_count": 6,
   "metadata": {},
   "outputs": [
    {
     "name": "stdout",
     "output_type": "stream",
     "text": [
      "+----------------------------------------------------------------------+-----+\n",
      "|                                                                 Image|count|\n",
      "+----------------------------------------------------------------------+-----+\n",
      "|        C:\\WindowsAzure\\Packages\\GuestAgent\\WindowsAzureGuestAgent.exe|    1|\n",
      "|                                       C:\\Windows\\System32\\rdpclip.exe|    1|\n",
      "|                                        C:\\Windows\\System32\\hostui.exe|    1|\n",
      "|                                      C:\\Windows\\System32\\userinit.exe|    1|\n",
      "|                                        C:\\Windows\\System32\\ctfmon.exe|    1|\n",
      "|C:\\Windows\\SystemApps\\Microsoft.Windows.Cortana_cw5n1h2txyewy\\Searc...|    1|\n",
      "|                               C:\\WindowsAzure\\Packages\\WaAppAgent.exe|    1|\n",
      "|                                       C:\\Windows\\System32\\TSTheme.exe|    1|\n",
      "|                                 C:\\Windows\\System32\\SearchIndexer.exe|    1|\n",
      "|C:\\Windows\\SystemApps\\Microsoft.Windows.StartMenuExperienceHost_cw5...|    1|\n",
      "|                          C:\\Windows\\System32\\ApplicationFrameHost.exe|    1|\n",
      "|                                   C:\\Windows\\System32\\wsmprovhost.exe|    1|\n",
      "|                                      C:\\Windows\\System32\\services.exe|    1|\n",
      "|C:\\Windows\\SystemApps\\ShellExperienceHost_cw5n1h2txyewy\\ShellExperi...|    1|\n",
      "|                         C:\\Windows\\System32\\SecurityHealthSystray.exe|    1|\n",
      "|                                     C:\\Windows\\System32\\javamtsup.exe|    1|\n",
      "|                                C:\\Windows\\System32\\browser_broker.exe|    1|\n",
      "|                                      C:\\Windows\\System32\\dispdiag.exe|    1|\n",
      "|                                 C:\\Windows\\System32\\wbem\\unsecapp.exe|    1|\n",
      "|C:\\WindowsAzure\\WindowsAzureNetAgent_1.0.0.143\\WindowsAzureNetAgent...|    1|\n",
      "|C:\\Packages\\Plugins\\Microsoft.Compute.JsonADDomainExtension\\1.3.2\\b...|    1|\n",
      "|                                     C:\\Windows\\System32\\ClipRenew.exe|    1|\n",
      "|                               C:\\Windows\\System32\\MicrosoftEdgeCP.exe|    1|\n",
      "|                                                                  null|    1|\n",
      "|                                    C:\\Windows\\System32\\SgrmBroker.exe|    1|\n",
      "|C:\\Packages\\Plugins\\Microsoft.Azure.Security.IaaSAntimalware\\1.5.5....|    1|\n",
      "|                                       C:\\Windows\\System32\\control.exe|    1|\n",
      "|                                       C:\\Windows\\System32\\spoolsv.exe|    1|\n",
      "|         C:\\WindowsAzure\\Packages\\GuestAgent\\FindVolume\\FindVolume.exe|    1|\n",
      "|                                        C:\\Windows\\System32\\wlrmdr.exe|    1|\n",
      "|C:\\WindowsAzure\\WindowsAzureNetAgent_1.0.0.143\\WindowsAzureNetAgent...|    1|\n",
      "|C:\\Windows\\SystemApps\\Microsoft.MicrosoftEdge_8wekyb3d8bbwe\\Microso...|    1|\n",
      "|                                C:\\ProgramData\\victim\\â€®cod.3aka3.scr|    1|\n",
      "|                                         C:\\Windows\\System32\\lsass.exe|    1|\n",
      "|                                      C:\\Windows\\System32\\WUDFHost.exe|    1|\n",
      "|                                       C:\\Windows\\System32\\mobsync.exe|    1|\n",
      "|                                        C:\\Windows\\System32\\sihost.exe|    1|\n",
      "|                       C:\\Windows\\System32\\Windows.WARP.JITService.exe|    1|\n",
      "|                                      C:\\Windows\\System32\\provtool.exe|    1|\n",
      "|                                       C:\\Windows\\System32\\notepad.exe|    1|\n",
      "+----------------------------------------------------------------------+-----+\n",
      "only showing top 40 rows\n",
      "\n"
     ]
    }
   ],
   "source": [
    "process = spark.sql(\n",
    "    '''\n",
    "SELECT Image, count(*) as count\n",
    "FROM apt29Table\n",
    "WHERE Channel = \"Microsoft-Windows-Sysmon/Operational\"\n",
    "    AND EventID = 1\n",
    "GROUP BY Image\n",
    "ORDER BY count ASC\n",
    "                          ''')\n",
    "process.show(40, truncate = 70)"
   ]
  },
  {
   "cell_type": "markdown",
   "metadata": {},
   "source": [
    "### 6) What is the process related to \"ProgramData\\victim\"?"
   ]
  },
  {
   "cell_type": "code",
   "execution_count": 7,
   "metadata": {
    "scrolled": true
   },
   "outputs": [
    {
     "name": "stdout",
     "output_type": "stream",
     "text": [
      "-RECORD 0--------------------------------------------------------\n",
      " UtcTime           | 2020-05-02 02:55:56.157                     \n",
      " ProcessGuid       | {47ab858c-e13c-5eac-a903-000000000400}      \n",
      " ProcessId         | 8524                                        \n",
      " Image             | C:\\ProgramData\\victim\\â€®cod.3aka3.scr      \n",
      " Description       | -                                           \n",
      " CommandLine       | \"C:\\ProgramData\\victim\\â€®cod.3aka3.scr\" /S \n",
      " CurrentDirectory  | C:\\ProgramData\\victim\\                      \n",
      " ParentProcessGuid | {47ab858c-dac4-5eac-f202-000000000400}      \n",
      " ParentProcessId   | 4440                                        \n",
      " ParentImage       | C:\\Windows\\explorer.exe                     \n",
      " ParentCommandLine | C:\\windows\\Explorer.EXE                     \n",
      "\n"
     ]
    }
   ],
   "source": [
    "processVictim = spark.sql(\n",
    "    '''\n",
    "SELECT UtcTime, ProcessGuid, ProcessId, Image, Description, CommandLine, CurrentDirectory,\n",
    "        ParentProcessGuid, ParentProcessId, ParentImage, ParentCommandLine\n",
    "FROM apt29Table\n",
    "WHERE Channel = \"Microsoft-Windows-Sysmon/Operational\"\n",
    "    AND EventID = 1\n",
    "    AND Image LIKE \"%3aka3%\"\n",
    "                          ''')\n",
    "processVictim.show(truncate = False, vertical = True)"
   ]
  },
  {
   "cell_type": "markdown",
   "metadata": {},
   "source": [
    "### 7) Does ProcessId = 8524 have any child processes?"
   ]
  },
  {
   "cell_type": "code",
   "execution_count": 8,
   "metadata": {},
   "outputs": [
    {
     "name": "stdout",
     "output_type": "stream",
     "text": [
      "+-----------------------+---------------+---------+-------------------------------+----------------------------------------+\n",
      "|                UtcTime|ParentProcessId|ProcessId|                          Image|                             CommandLine|\n",
      "+-----------------------+---------------+---------+-------------------------------+----------------------------------------+\n",
      "|2020-05-02 02:56:04.494|           8524|     5156|C:\\Windows\\System32\\conhost.exe|\\\\?\\C:\\windows\\system32\\conhost.exe -...|\n",
      "|2020-05-02 02:56:04.510|           8524|     2772|    C:\\Windows\\System32\\cmd.exe|           \"C:\\windows\\system32\\cmd.exe\"|\n",
      "|2020-05-02 02:57:12.374|           8524|     3152|C:\\Windows\\System32\\conhost.exe|\\\\?\\C:\\windows\\system32\\conhost.exe -...|\n",
      "|2020-05-02 02:57:12.376|           8524|     3480|    C:\\Windows\\System32\\cmd.exe|           \"C:\\windows\\system32\\cmd.exe\"|\n",
      "+-----------------------+---------------+---------+-------------------------------+----------------------------------------+\n",
      "\n"
     ]
    }
   ],
   "source": [
    "process8524 = spark.sql(\n",
    "    '''\n",
    "SELECT UtcTime, ParentProcessId, ProcessId, Image, CommandLine\n",
    "FROM apt29Table\n",
    "WHERE Channel = \"Microsoft-Windows-Sysmon/Operational\"\n",
    "    AND EventID = 1\n",
    "    AND ParentProcessId = 8524\n",
    "                          ''')\n",
    "process8524.show(truncate = 40, vertical = False)"
   ]
  },
  {
   "cell_type": "markdown",
   "metadata": {},
   "source": [
    "### 8) What are the events related to ProcessId = 8524?"
   ]
  },
  {
   "cell_type": "code",
   "execution_count": 9,
   "metadata": {
    "scrolled": true
   },
   "outputs": [
    {
     "name": "stdout",
     "output_type": "stream",
     "text": [
      "+-------+-----+\n",
      "|EventID|count|\n",
      "+-------+-----+\n",
      "|7      |65   |\n",
      "|12     |9    |\n",
      "|17     |6    |\n",
      "|18     |6    |\n",
      "|10     |4    |\n",
      "|22     |2    |\n",
      "|1      |1    |\n",
      "|11     |1    |\n",
      "|5      |1    |\n",
      "|3      |1    |\n",
      "+-------+-----+\n",
      "\n"
     ]
    }
   ],
   "source": [
    "Process8524 = spark.sql(\n",
    "    '''\n",
    "SELECT EventID, count(*) as count\n",
    "FROM apt29Table\n",
    "WHERE Channel = \"Microsoft-Windows-Sysmon/Operational\" \n",
    "    AND ProcessId = 8524\n",
    "GROUP BY EventID\n",
    "ORDER BY count DESC\n",
    "                          ''')\n",
    "Process8524.show(truncate = False)"
   ]
  },
  {
   "cell_type": "markdown",
   "metadata": {},
   "source": [
    "### 9) What event from \"Sysmon 3: Network Connection\" are related to ProcessId = 8524?"
   ]
  },
  {
   "cell_type": "code",
   "execution_count": 10,
   "metadata": {},
   "outputs": [
    {
     "name": "stdout",
     "output_type": "stream",
     "text": [
      "-RECORD 0-------------------------------------------------\n",
      " UtcTime         | 2020-05-02 02:55:59.631                \n",
      " ProcessGuid     | {47ab858c-e13c-5eac-a903-000000000400} \n",
      " ProcessId       | 8524                                   \n",
      " Image           | C:\\ProgramData\\victim\\â€®cod.3aka3.scr \n",
      " SourceIp        | 10.0.1.4                               \n",
      " SourcePort      | 59835                                  \n",
      " DestinationIp   | 192.168.0.5                            \n",
      " DestinationPort | 1234                                   \n",
      "\n"
     ]
    }
   ],
   "source": [
    "networkConnection8524 = spark.sql(\n",
    "    '''\n",
    "SELECT UtcTime, ProcessGuid, ProcessId, Image, SourceIp, SourcePort, DestinationIp, DestinationPort\n",
    "FROM apt29Table\n",
    "WHERE Channel = \"Microsoft-Windows-Sysmon/Operational\"\n",
    "    AND EventID = 3\n",
    "    AND ProcessId = 8524\n",
    "                          ''')\n",
    "networkConnection8524.show(truncate = False, vertical = True)"
   ]
  },
  {
   "cell_type": "markdown",
   "metadata": {},
   "source": [
    "### 10) How can we put everything TOGETHER?"
   ]
  },
  {
   "cell_type": "code",
   "execution_count": 11,
   "metadata": {},
   "outputs": [
    {
     "name": "stdout",
     "output_type": "stream",
     "text": [
      "-RECORD 0-------------------------------------------------\n",
      " @timestamp      | 2020-05-02T02:56:02.783Z               \n",
      " ProcessId       | 8524                                   \n",
      " ParentImage     | C:\\Windows\\explorer.exe                \n",
      " Image           | C:\\ProgramData\\victim\\â€®cod.3aka3.scr \n",
      " SourceIp        | 10.0.1.4                               \n",
      " DestinationIp   | 192.168.0.5                            \n",
      " DestinationPort | 1234                                   \n",
      "\n"
     ]
    }
   ],
   "source": [
    "networkConnection8524 = spark.sql(\n",
    "    '''\n",
    "SELECT o.`@timestamp`, o.ProcessId, a.ParentImage, o.Image, o.SourceIp, o.DestinationIp, o.DestinationPort\n",
    "FROM apt29Table o\n",
    "INNER JOIN (\n",
    "    SELECT Description, CommandLine, CurrentDirectory, ProcessGuid, ParentImage\n",
    "    FROM apt29Table\n",
    "    WHERE Channel = \"Microsoft-Windows-Sysmon/Operational\"\n",
    "        AND EventID = 1\n",
    "        AND ParentImage LIKE \"%explorer%\"\n",
    "    ) a\n",
    "ON o.ProcessGuid = a.ProcessGuid\n",
    "WHERE Channel = \"Microsoft-Windows-Sysmon/Operational\"\n",
    "        AND EventID = 3\n",
    "                          ''')\n",
    "networkConnection8524.show(truncate = False, vertical = True)"
   ]
  },
  {
   "cell_type": "code",
   "execution_count": null,
   "metadata": {},
   "outputs": [],
   "source": []
  }
 ],
 "metadata": {
  "kernelspec": {
   "display_name": "PySpark_Python3",
   "language": "python",
   "name": "pyspark3"
  },
  "language_info": {
   "codemirror_mode": {
    "name": "ipython",
    "version": 3
   },
   "file_extension": ".py",
   "mimetype": "text/x-python",
   "name": "python",
   "nbconvert_exporter": "python",
   "pygments_lexer": "ipython3",
   "version": "3.7.6"
  }
 },
 "nbformat": 4,
 "nbformat_minor": 2
}
